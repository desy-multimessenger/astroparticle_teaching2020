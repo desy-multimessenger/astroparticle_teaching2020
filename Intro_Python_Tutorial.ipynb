{
 "cells": [
  {
   "cell_type": "markdown",
   "metadata": {},
   "source": [
    "## Astronomy with Python\n",
    "\n",
    "Author: Simone Garrappa"
   ]
  },
  {
   "cell_type": "code",
   "execution_count": null,
   "metadata": {},
   "outputs": [],
   "source": [
    "import numpy as np\n",
    "import matplotlib.pyplot as plt\n",
    "from matplotlib.pyplot import cm\n",
    "%matplotlib inline\n",
    "\n",
    "import astropy.units as u\n",
    "from astropy.constants import G, h, k_B\n",
    "from astropy.visualization import quantity_support\n",
    "from astropy.coordinates import SkyCoord\n",
    "from IPython.display import Image\n",
    "from astropy.table import Table\n",
    "\n",
    "\n",
    "from urllib.parse import urlencode\n",
    "from urllib.request import urlretrieve"
   ]
  },
  {
   "cell_type": "markdown",
   "metadata": {},
   "source": [
    "### Coordinates and units"
   ]
  },
  {
   "cell_type": "markdown",
   "metadata": {},
   "source": [
    "Astropy can handle sky coordinates in several coordinate systems. Sky positions can be set manually or looking for object names in catalogs (i.e. stars,galaxies...).\n",
    "Let's try to get the positions of the two brightest stars in the Gemini constellation:"
   ]
  },
  {
   "cell_type": "code",
   "execution_count": null,
   "metadata": {},
   "outputs": [],
   "source": [
    "castor_coor = SkyCoord.from_name('Castor')\n",
    "pollux_coor = SkyCoord.from_name('Pollux')"
   ]
  },
  {
   "cell_type": "markdown",
   "metadata": {},
   "source": [
    "we can calculate the angular distance between the two selected stars with:"
   ]
  },
  {
   "cell_type": "code",
   "execution_count": null,
   "metadata": {},
   "outputs": [],
   "source": [
    "dist = castor_coor.separation(pollux_coor)\n",
    "print(\"Angular distance: {0:.3g}\".format(dist.to(u.deg)))"
   ]
  },
  {
   "cell_type": "markdown",
   "metadata": {},
   "source": [
    "We have computed the angular separation in the sky between the two stars, but we could also calculate the 3D distance between the objects when their distance from the observer is known."
   ]
  },
  {
   "cell_type": "code",
   "execution_count": null,
   "metadata": {},
   "outputs": [],
   "source": [
    "c1 = SkyCoord('6h33m31.5s', '-54d41m23s', distance=70*u.kpc, frame='icrs')\n",
    "c2 = SkyCoord('1h22m14.8s', '-63d49m47s', distance=80*u.kpc, frame='icrs')\n",
    "sep = c1.separation_3d(c2)\n",
    "sep"
   ]
  },
  {
   "cell_type": "code",
   "execution_count": null,
   "metadata": {},
   "outputs": [],
   "source": [
    "c1 = c1.transform_to('galactic')\n"
   ]
  },
  {
   "cell_type": "markdown",
   "metadata": {},
   "source": [
    "We can move to a different coordinates frame of reference, for example we can convert the coordinates of Pollux to the Galactic frame:\n"
   ]
  },
  {
   "cell_type": "code",
   "execution_count": null,
   "metadata": {},
   "outputs": [],
   "source": [
    "pollux_coor.transform_to('galactic')"
   ]
  },
  {
   "cell_type": "markdown",
   "metadata": {},
   "source": [
    "Many coordinate frames and equinoxes are available by default in Astropy:\n",
    "\n",
    "ICRS\n",
    "\n",
    "FK5\n",
    "\n",
    "FK4\n",
    "\n",
    "FK4NoETerms\n",
    "\n",
    "Galactic\n",
    "\n",
    "Galactocentric\n",
    "\n",
    "Supergalactic\n",
    "\n",
    "AltAz\n",
    "\n",
    "GCRS\n",
    "\n",
    "CIRS\n",
    "\n",
    "ITRS\n",
    "\n",
    "HCRS\n",
    "\n",
    "PrecessedGeocentric\n",
    "\n",
    "GeocentricTrueEcliptic\n",
    "\n",
    "BarycentricTrueEcliptic\n",
    "\n",
    "HeliocentricTrueEcliptic\n",
    "\n",
    "SkyOffsetFrame\n",
    "\n",
    "GalacticLSR\n",
    "\n",
    "LSR\n",
    "\n",
    "BaseEclipticFrame\n",
    "\n",
    "BaseRADecFrame"
   ]
  },
  {
   "cell_type": "markdown",
   "metadata": {},
   "source": [
    "There are several methods for each class, and they can be explored with 'dir()':"
   ]
  },
  {
   "cell_type": "code",
   "execution_count": null,
   "metadata": {},
   "outputs": [],
   "source": [
    "#dir(SkyCoord)"
   ]
  },
  {
   "cell_type": "code",
   "execution_count": null,
   "metadata": {},
   "outputs": [],
   "source": [
    "# set the cutout size we want\n",
    "im_size = 30*u.arcmin # get a 12 arcmin square\n",
    "im_pixels = 1024\n",
    "cutoutbaseurl = 'http://skyservice.pha.jhu.edu/DR12/ImgCutout/getjpeg.aspx'\n",
    "query_string = urlencode(dict(ra=obj_coord.ra.deg,\n",
    "                              dec=obj_coord.dec.deg,\n",
    "                              width=im_pixels, height=im_pixels,\n",
    "                              scale=im_size.to(u.arcsec).value/im_pixels))\n",
    "url = cutoutbaseurl + '?' + query_string\n",
    "\n",
    "# this downloads the image to your disk\n",
    "image_name = 'Obj_SDSS_cutout.jpg'\n",
    "urlretrieve(url, image_name )\n",
    "Image(image_name)"
   ]
  },
  {
   "cell_type": "markdown",
   "metadata": {},
   "source": [
    "### Exercise break 1 (10 min)"
   ]
  },
  {
   "cell_type": "markdown",
   "metadata": {},
   "source": [
    "Find the coordinates of the two Galaxies M81 and M82, compute their angular distance and give the result in degreees, arcmin and arcseconds.\n",
    "In which constellation are the two galaxies located? Try to find it out from the methods of the SkyCoord class!\n",
    "\n"
   ]
  },
  {
   "cell_type": "markdown",
   "metadata": {},
   "source": [
    "## File I/O, working with catalogs"
   ]
  },
  {
   "cell_type": "markdown",
   "metadata": {},
   "source": [
    "We explore a typical user-case in astronomy, parsing information from the commonly adopted FITS files. We use the Fourth Fermi-LAT Source Catalog (4FGL) that uses 8 years of Fermi-LAT observations."
   ]
  },
  {
   "cell_type": "code",
   "execution_count": null,
   "metadata": {},
   "outputs": [],
   "source": [
    "import astropy.io.fits as pyfits\n",
    "\n",
    "hdu_list = pyfits.open('gll_psc_v21.fit')"
   ]
  },
  {
   "cell_type": "markdown",
   "metadata": {},
   "source": [
    "We could investigate the main structure of the FITS file with a simple method and find the table we are interested in:"
   ]
  },
  {
   "cell_type": "code",
   "execution_count": null,
   "metadata": {},
   "outputs": [],
   "source": [
    "hdu_list.info()"
   ]
  },
  {
   "cell_type": "markdown",
   "metadata": {},
   "source": [
    "We are interested in the point source catalog, so we explore the table looking at the description of the different columns"
   ]
  },
  {
   "cell_type": "code",
   "execution_count": null,
   "metadata": {},
   "outputs": [],
   "source": [
    "#print(hdu_list[1].columns)\n"
   ]
  },
  {
   "cell_type": "code",
   "execution_count": null,
   "metadata": {},
   "outputs": [],
   "source": [
    "point_src = Table(hdu_list[1].data)\n",
    "\n"
   ]
  },
  {
   "cell_type": "code",
   "execution_count": null,
   "metadata": {},
   "outputs": [],
   "source": [
    "point_src.colnames"
   ]
  },
  {
   "cell_type": "markdown",
   "metadata": {},
   "source": [
    "Let's plot in the sky the positions of the brightest sources detected by Fermi-LAT"
   ]
  },
  {
   "cell_type": "code",
   "execution_count": null,
   "metadata": {},
   "outputs": [],
   "source": [
    "flux_hist = plt.hist(point_src['Flux1000'], bins='auto')\n",
    "plt.semilogx()\n",
    "plt.semilogy()\n",
    "plt.xlabel(r'Flux1000 (ph cm$^{-2}$ s$^{-1}$)')\n",
    "plt.ylabel('Number of sources')\n"
   ]
  },
  {
   "cell_type": "markdown",
   "metadata": {},
   "source": [
    "We only select sources with a value of \"Flux1000\" above 6$\\times$10$^{-8}$ ph cm$^{-2}$ s$^{-1}$"
   ]
  },
  {
   "cell_type": "code",
   "execution_count": null,
   "metadata": {},
   "outputs": [],
   "source": [
    "#define empty lists to be filled with our selected objects\n",
    "src_lon = []\n",
    "src_lat = []\n",
    "src_name = []\n",
    "\n",
    "for i, item in enumerate(point_src['ASSOC1']):\n",
    "    if point_src['Flux1000'][i] < 6e-8: continue\n",
    "    src_name.append(item)\n",
    "    src_lon.append(point_src['GLON'][i])\n",
    "    src_lat.append(point_src['GLAT'][i])\n",
    "    \n"
   ]
  },
  {
   "cell_type": "code",
   "execution_count": null,
   "metadata": {},
   "outputs": [],
   "source": [
    "src_lon"
   ]
  },
  {
   "cell_type": "code",
   "execution_count": null,
   "metadata": {},
   "outputs": [],
   "source": [
    "fig = plt.figure(figsize=(10, 6))\n",
    "font = {'family': 'serif',  'color':'black', 'weight': 'normal', 'size': 16.} \n",
    "ax = fig.add_subplot(111, projection=\"aitoff\")\n",
    "\n",
    "n_src = len(src_name)\n",
    "src_coord = SkyCoord(l = src_lon*u.degree, b = src_lat*u.degree, frame=\"galactic\")\n",
    "\n",
    "\n",
    "lon_src, lat_src = src_coord.l, src_coord.b\n",
    "lon_src = -lon_src.wrap_at(180*u.degree) #  flip it and fold it so that it looks normal\n",
    "\n",
    "color=iter(cm.rainbow(np.linspace(0,1,n_src)))\n",
    "\n",
    "for name, lon, lat in zip(src_name, lon_src, lat_src):\n",
    "    ax.plot(lon.radian, lat.radian, label = name, marker = 'o', markersize=10, ls='', color=next(color))\n",
    "\n",
    "ax.grid(True)\n",
    "ax.set_xticklabels(['150$^\\circ$','120$^\\circ$','90$^\\circ$','60$^\\circ$','30$^\\circ$','0$^\\circ$',\n",
    "                    '-30$^\\circ$','-60$^\\circ$','-90$^\\circ$','-210$^\\circ$','-270$^\\circ$'])\n",
    "ax.legend(loc='upper center', bbox_to_anchor=(0.5, 1.45), numpoints=1, ncol=3, fancybox=True, shadow=True)\n",
    "fig.tight_layout()\n",
    "plt.show()"
   ]
  },
  {
   "cell_type": "markdown",
   "metadata": {},
   "source": [
    "## Observations planning"
   ]
  },
  {
   "cell_type": "code",
   "execution_count": null,
   "metadata": {},
   "outputs": [],
   "source": [
    "from astropy.time import Time\n",
    "from astropy.coordinates import EarthLocation, AltAz\n",
    "\n",
    "M101 = SkyCoord.from_name('M101') \n",
    "print(M101)"
   ]
  },
  {
   "cell_type": "code",
   "execution_count": null,
   "metadata": {},
   "outputs": [],
   "source": [
    "# define Berlin Location\n",
    "#Berlin = EarthLocation(lat=52.52*u.deg, lon=13.41*u.deg, height=34*u.m)\n",
    "Berlin = EarthLocation.of_address('Treptower Park, Berlin')\n",
    "\n",
    "\n",
    "# We have to set an offset of 2 hours for the Berlin time zone, defined as Central European Summer Time (CEST)\n",
    "utcoffset = +2*u.hour \n",
    "time = Time('2020-5-26 23:00:00') - utcoffset\n",
    "# M101 coordinates in Berlin Horizontal Coordinate System\n",
    "M101_altaz = M101.transform_to(AltAz(obstime=time,location=Berlin))  \n",
    "\"M101's Altitude = {0.alt:.2}\".format(M101_altaz)"
   ]
  },
  {
   "cell_type": "code",
   "execution_count": null,
   "metadata": {},
   "outputs": [],
   "source": [
    "from astropy.coordinates import get_sun\n",
    "midnight = Time('2020-05-27 00:00:00') - utcoffset\n",
    "# create an array of times from 12h before to 12 after midnight\n",
    "delta_midnight = np.linspace(-12, 12, 1000)*u.hour\n",
    "times = midnight + delta_midnight\n",
    "# Berlin Horizontal Coordinate system\n",
    "altazframe = AltAz(obstime=times, location=Berlin)\n",
    "# Sun's position in it\n",
    "sunaltazs = get_sun(times).transform_to(altazframe)\n",
    "M101_altazs = M101.transform_to(altazframe)  \n",
    "\n",
    "fig3 = plt.figure(figsize=(10, 6))\n",
    "plt.plot(delta_midnight, sunaltazs.alt, color='y', label='Sun')  \n",
    "# plot accounting fro the Azimuth\n",
    "plt.scatter(delta_midnight, M101_altazs.alt, c=M101_altazs.az, label='M101', lw=0, s=8)  \n",
    "# plot a gray band corresponding to dark time i.e. negative altitude of the sun\n",
    "plt.fill_between(delta_midnight.to('hr').value, 0, 90, sunaltazs.alt < 0*u.deg, color='0.2', zorder=0)  \n",
    "plt.colorbar().set_label('Azimuth [deg]')  \n",
    "plt.legend(loc='upper left')  \n",
    "plt.xlim(-12, 12)  \n",
    "plt.xticks(np.arange(13)*2 -12)  \n",
    "plt.ylim(0, 90)  \n",
    "plt.xlabel('Hours from CEST Midnight')  \n",
    "plt.ylabel('Altitude [deg]')  \n",
    "plt.show()"
   ]
  },
  {
   "cell_type": "code",
   "execution_count": null,
   "metadata": {},
   "outputs": [],
   "source": [
    "# set the cutout size we want\n",
    "obj_coord = M101\n",
    "im_size = 30*u.arcmin # get a 12 arcmin square\n",
    "im_pixels = 1024\n",
    "cutoutbaseurl = 'http://skyservice.pha.jhu.edu/DR12/ImgCutout/getjpeg.aspx'\n",
    "query_string = urlencode(dict(ra=obj_coord.ra.deg,\n",
    "                              dec=obj_coord.dec.deg,\n",
    "                              width=im_pixels, height=im_pixels,\n",
    "                              scale=im_size.to(u.arcsec).value/im_pixels))\n",
    "url = cutoutbaseurl + '?' + query_string\n",
    "\n",
    "# this downloads the image to your disk\n",
    "image_name = 'Obj_SDSS_cutout.jpg'\n",
    "urlretrieve(url, image_name )\n",
    "Image(image_name)"
   ]
  },
  {
   "cell_type": "markdown",
   "metadata": {},
   "source": [
    "### Exercise break 3 (15 min)"
   ]
  },
  {
   "cell_type": "markdown",
   "metadata": {},
   "source": [
    "Plan an observation for the Andromeda Galaxy M31 on September 22, 2020 from Rome (Italy) and from Sidney (Australia), and check also the Moon for that night!"
   ]
  },
  {
   "cell_type": "code",
   "execution_count": 1,
   "metadata": {},
   "outputs": [],
   "source": [
    "import numpy as np\n",
    "import matplotlib.pyplot as plt\n",
    "from astropy.visualization import astropy_mpl_style, quantity_support\n",
    "plt.style.use(astropy_mpl_style)\n",
    "quantity_support()\n",
    "import astropy.units as u\n",
    "from astropy.time import Time\n",
    "from astropy.coordinates import SkyCoord, EarthLocation, AltAz"
   ]
  },
  {
   "cell_type": "code",
   "execution_count": 2,
   "metadata": {},
   "outputs": [],
   "source": [
    "M101 = SkyCoord.from_name('M101') \n"
   ]
  },
  {
   "cell_type": "code",
   "execution_count": 3,
   "metadata": {},
   "outputs": [],
   "source": [
    "# define Berlin Location\n",
    "#Berlin = EarthLocation(lat=52.52*u.deg, lon=13.41*u.deg, height=34*u.m)\n",
    "Berlin = EarthLocation.of_address('Treptower Park, Berlin')\n",
    "\n",
    "\n",
    "# We have to set an offset of 2 hours for the Berlin time zone, defined as Central European Summer Time (CEST)\n",
    "utcoffset = +2*u.hour \n",
    "midnight = Time('2020-5-27 00:00:00') - utcoffset"
   ]
  },
  {
   "cell_type": "code",
   "execution_count": 5,
   "metadata": {},
   "outputs": [
    {
     "data": {
      "text/plain": [
       "\"M101's Altitude = 7.9e+01 deg\""
      ]
     },
     "execution_count": 5,
     "metadata": {},
     "output_type": "execute_result"
    }
   ],
   "source": [
    "# M101 coordinates in Berlin Horizontal Coordinate System\n",
    "M101_altaz = M101.transform_to(AltAz(obstime=midnight,location=Berlin))  \n",
    "\"M101's Altitude = {0.alt:.2}\".format(M101_altaz)\n",
    "\n"
   ]
  },
  {
   "cell_type": "code",
   "execution_count": null,
   "metadata": {},
   "outputs": [],
   "source": [
    "#midnight = Time('2020-05-26 00:00:00') - utcoffset\n",
    "##delta_midnight = np.linspace(-2, 10, 100)*u.hour\n",
    "#frame_May26night = AltAz(obstime=midnight+delta_midnight,\n",
    "#                          location=Berlin)\n",
    "#m101altazs_May26night = M101.transform_to(frame_May26night)"
   ]
  },
  {
   "cell_type": "code",
   "execution_count": 6,
   "metadata": {},
   "outputs": [],
   "source": [
    "from astropy.coordinates import get_sun\n",
    "delta_midnight = np.linspace(-12, 12, 1000)*u.hour\n",
    "times_ = midnight + delta_midnight\n",
    "frame_ = AltAz(obstime=times_, location=Berlin)\n",
    "sunaltazs_ = get_sun(times_).transform_to(frame_)"
   ]
  },
  {
   "cell_type": "code",
   "execution_count": 7,
   "metadata": {},
   "outputs": [],
   "source": [
    "M101altazs_May26 = M101.transform_to(frame_)"
   ]
  },
  {
   "cell_type": "code",
   "execution_count": 14,
   "metadata": {},
   "outputs": [
    {
     "data": {
      "image/png": "[encoded data removed]",
      "text/plain": [
       "<Figure size 720x432 with 2 Axes>"
      ]
     },
     "metadata": {
      "needs_background": "light"
     },
     "output_type": "display_data"
    }
   ],
   "source": [
    "fig3 = plt.figure(figsize=(10, 6))\n",
    "plt.plot(delta_midnight, sunaltazs_.alt, color='r', label='Sun')\n",
    "plt.scatter(delta_midnight, M101altazs_May26.alt,\n",
    "            c=M101altazs_May26.az, label='M33', lw=0, s=8,\n",
    "            cmap='viridis')\n",
    "plt.fill_between(delta_midnight, 0*u.deg, 90*u.deg,\n",
    "                 sunaltazs_.alt < -0*u.deg, color='k',alpha = 0.5, zorder=0)\n",
    "plt.fill_between(delta_midnight, 0*u.deg, 90*u.deg,\n",
    "                 sunaltazs_.alt < -10*u.deg, color='k', zorder=0)\n",
    "plt.colorbar().set_label('Azimuth [deg]')\n",
    "plt.legend(loc='upper left')\n",
    "plt.xlim(-12*u.hour, 12*u.hour)\n",
    "plt.xticks((np.arange(13)*2-12)*u.hour)\n",
    "plt.ylim(0*u.deg, 90*u.deg)\n",
    "plt.xlabel('Hours from EDT Midnight')\n",
    "plt.ylabel('Altitude [deg]')\n",
    "plt.show()"
   ]
  },
  {
   "cell_type": "code",
   "execution_count": null,
   "metadata": {},
   "outputs": [],
   "source": []
  }
 ],
 "metadata": {
  "kernelspec": {
   "display_name": "Python 3",
   "language": "python",
   "name": "python3"
  },
  "language_info": {
   "codemirror_mode": {
    "name": "ipython",
    "version": 3
   },
   "file_extension": ".py",
   "mimetype": "text/x-python",
   "name": "python",
   "nbconvert_exporter": "python",
   "pygments_lexer": "ipython3",
   "version": "3.7.3"
  }
 },
 "nbformat": 4,
 "nbformat_minor": 2
}
